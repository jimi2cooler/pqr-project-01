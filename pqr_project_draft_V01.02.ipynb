{
 "cells": [
  {
   "cell_type": "code",
   "execution_count": null,
   "id": "2c7938ec",
   "metadata": {
    "ExecuteTime": {
     "end_time": "2021-06-06T12:53:59.995579Z",
     "start_time": "2021-06-06T12:53:59.982585Z"
    }
   },
   "outputs": [],
   "source": [
    "import pandas as pd\n",
    "import datetime\n",
    "import matplotlib.pyplot as plt\n",
    "from matplotlib.backends.backend_pdf import PdfPages\n",
    "import seaborn as sns\n",
    "import math\n",
    "import GraphModule as gm"
   ]
  },
  {
   "cell_type": "code",
   "execution_count": null,
   "id": "a2042c3b",
   "metadata": {
    "ExecuteTime": {
     "end_time": "2021-06-06T13:44:01.822681Z",
     "start_time": "2021-06-06T13:44:01.803731Z"
    }
   },
   "outputs": [],
   "source": [
    "def plot_chart (df, title, x_label, y_label, chart_type, stack_yn) :\n",
    "\n",
    "    fig = plt.figure(figsize=(10, 5), dpi=200)\n",
    "    ax = plt.gca()\n",
    "    # 차트 제목\n",
    "    plt.title(title)\n",
    "    plt.xlabel(x_label)\n",
    "    plt.ylabel(y_label)\n",
    "    df.plot(kind=chart_type if chart_type else 'bar', ax=ax, \n",
    "            stacked = stack_yn if stack_yn is False else True)\n",
    "    return fig"
   ]
  },
  {
   "cell_type": "code",
   "execution_count": null,
   "id": "98284688",
   "metadata": {},
   "outputs": [],
   "source": [
    "def hist_chart(df, title : str, x_label : str, y_label : str, options : dict) :\n",
    "\n",
    "    fig = plt.figure(figsize=(10, 5), dpi=200)\n",
    "    ax = plt.gca()\n",
    "    # 차트 제목\n",
    "    plt.title(title)\n",
    "    plt.xlabel(x_label)\n",
    "    plt.ylabel(y_label)\n",
    "\n",
    "    plt.hist(df['any'], bins = options['bins'] if options['bins'] else 10, \n",
    "                density=options['desity'] if options['desity'] else True, \n",
    "                color=options['color'] if options['color'] else 'blue', \n",
    "                histtype=options['hist_type'] if options['hist_type'] else 'bar')\n",
    "    return fig"
   ]
  },
  {
   "cell_type": "code",
   "execution_count": null,
   "id": "887537e4",
   "metadata": {
    "ExecuteTime": {
     "end_time": "2021-06-06T11:39:53.473015Z",
     "start_time": "2021-06-06T11:39:53.358907Z"
    }
   },
   "outputs": [],
   "source": [
    "data_loan_outstanding = pd.read_pickle(r'C:\\Users\\perkw\\Projects\\pqr-project-01\\data\\data_loan_outstanding.pkl')"
   ]
  },
  {
   "cell_type": "code",
   "execution_count": null,
   "id": "30e53d8c",
   "metadata": {
    "ExecuteTime": {
     "end_time": "2021-06-06T11:43:42.404989Z",
     "start_time": "2021-06-06T11:43:42.385852Z"
    }
   },
   "outputs": [],
   "source": [
    "data_loan_outstanding.columns"
   ]
  },
  {
   "cell_type": "code",
   "execution_count": null,
   "id": "26b0c47f",
   "metadata": {
    "ExecuteTime": {
     "end_time": "2021-06-06T11:45:40.679547Z",
     "start_time": "2021-06-06T11:45:40.607523Z"
    }
   },
   "outputs": [],
   "source": [
    "data_loan_outstanding_new = data_loan_outstanding[data_loan_outstanding['실행사유'] == '신규']"
   ]
  },
  {
   "cell_type": "code",
   "execution_count": null,
   "id": "96cce1ac",
   "metadata": {
    "ExecuteTime": {
     "end_time": "2021-06-06T11:46:21.748260Z",
     "start_time": "2021-06-06T11:46:21.742292Z"
    }
   },
   "outputs": [],
   "source": [
    "data_loan_outstanding_new.shape"
   ]
  },
  {
   "cell_type": "code",
   "execution_count": null,
   "id": "c1a64eda",
   "metadata": {
    "ExecuteTime": {
     "end_time": "2021-06-06T11:47:56.775911Z",
     "start_time": "2021-06-06T11:47:56.741747Z"
    }
   },
   "outputs": [],
   "source": [
    "data_loan_outstanding_new = data_loan_outstanding_new[data_loan_outstanding_new['이전실행번호'].isnull()]"
   ]
  },
  {
   "cell_type": "code",
   "execution_count": null,
   "id": "ec56506c",
   "metadata": {
    "ExecuteTime": {
     "end_time": "2021-06-06T11:52:47.098982Z",
     "start_time": "2021-06-06T11:52:47.076689Z"
    }
   },
   "outputs": [],
   "source": [
    "org_list = data_loan_outstanding_new['부서'].unique()\n",
    "org_list"
   ]
  },
  {
   "cell_type": "code",
   "execution_count": null,
   "id": "30178bfd",
   "metadata": {
    "ExecuteTime": {
     "end_time": "2021-06-06T11:54:45.810549Z",
     "start_time": "2021-06-06T11:54:45.805562Z"
    }
   },
   "outputs": [],
   "source": [
    "filter_org = ['데이터금융1팀', '리스할부운영팀', '리스할부영업팀','데이터금융2팀']"
   ]
  },
  {
   "cell_type": "code",
   "execution_count": null,
   "id": "d1d8caac",
   "metadata": {
    "ExecuteTime": {
     "end_time": "2021-06-06T11:54:47.764383Z",
     "start_time": "2021-06-06T11:54:47.725007Z"
    }
   },
   "outputs": [],
   "source": [
    "data_loan_outstanding_new = data_loan_outstanding_new[data_loan_outstanding_new['부서'].isin(filter_org)]\n",
    "data_loan_outstanding_new.shape"
   ]
  },
  {
   "cell_type": "code",
   "execution_count": null,
   "id": "a2797a2b",
   "metadata": {
    "ExecuteTime": {
     "end_time": "2021-06-06T11:56:19.888308Z",
     "start_time": "2021-06-06T11:56:19.861142Z"
    }
   },
   "outputs": [],
   "source": [
    "data_loan_outstanding_new = data_loan_outstanding_new[data_loan_outstanding_new['실행상태'].isin(['정상', '기한이익', '해지'])]\n",
    "data_loan_outstanding_new.shape"
   ]
  },
  {
   "cell_type": "code",
   "execution_count": null,
   "id": "f9c1a190",
   "metadata": {
    "ExecuteTime": {
     "end_time": "2021-06-06T11:58:07.081887Z",
     "start_time": "2021-06-06T11:58:07.019036Z"
    }
   },
   "outputs": [],
   "source": [
    "new_amt_retail_loan = pd.crosstab(data_loan_outstanding_new['vin_mob'], data_loan_outstanding_new['상품분류'], data_loan_outstanding_new['실행번호'], aggfunc='count')"
   ]
  },
  {
   "cell_type": "code",
   "execution_count": null,
   "id": "3b27fdf6",
   "metadata": {
    "ExecuteTime": {
     "end_time": "2021-06-06T12:16:11.889467Z",
     "start_time": "2021-06-06T12:16:11.850474Z"
    }
   },
   "outputs": [],
   "source": [
    "new_amt_retail_loan = new_amt_retail_loan.drop(['오토자금대출'], axis=1)\n",
    "col_sort_list = ['오토리스', '할부/오토론', '임차보증금대출', '스탁론(국내)', '스마트스토어대출', '데이터_기타']\n",
    "new_amt_retail_loan = new_amt_retail_loan[col_sort_list]\n",
    "new_amt_retail_loan"
   ]
  },
  {
   "cell_type": "code",
   "execution_count": null,
   "id": "41be8b4b",
   "metadata": {
    "ExecuteTime": {
     "end_time": "2021-06-06T12:17:05.805464Z",
     "start_time": "2021-06-06T12:17:05.789537Z"
    }
   },
   "outputs": [],
   "source": [
    "#pdf 생성\n",
    "mypdf = PdfPages('pqr_chart_20210606.pdf')\n",
    "# 파라미터 설정\n",
    "plt.rcParams.update({'font.size': 10})\n",
    "plt.rcParams.update({'font.family': 'Gulim'})"
   ]
  },
  {
   "cell_type": "code",
   "execution_count": null,
   "id": "ccfa5d11",
   "metadata": {
    "ExecuteTime": {
     "end_time": "2021-06-06T12:59:10.251993Z",
     "start_time": "2021-06-06T12:59:08.345258Z"
    }
   },
   "outputs": [],
   "source": [
    "# df, title : str, x_label : str, y_label : str, options : dict\n",
    "# option : type, stack\n",
    "\n",
    "fig = plot_chart(new_amt_retail_loan, '월간 리테일여신 건별 취급추이', '취급월', '취급건수(건)', 'bar', True)"
   ]
  },
  {
   "cell_type": "code",
   "execution_count": null,
   "id": "feeff0bc",
   "metadata": {
    "ExecuteTime": {
     "end_time": "2021-06-06T13:04:54.604458Z",
     "start_time": "2021-06-06T13:04:52.669759Z"
    }
   },
   "outputs": [],
   "source": [
    "new_amt_retail_loan_amt = pd.crosstab(data_loan_outstanding_new['vin_mob'], data_loan_outstanding_new['상품분류'], data_loan_outstanding_new['여신금액']/100000000, aggfunc='sum')\n",
    "new_amt_retail_loan_amt = new_amt_retail_loan_amt.drop(['오토자금대출', '데이터_기타'], axis=1)\n",
    "col_sort_list = ['오토리스', '할부/오토론', '임차보증금대출', '스탁론(국내)', '스마트스토어대출']\n",
    "new_amt_retail_loan_amt = new_amt_retail_loan_amt[col_sort_list]\n",
    "fig = plot_chart(new_amt_retail_loan_amt, '월간 리테일여신 취급액(억원) 추이', '취급월', '취급액(억원)', 'bar', True)"
   ]
  },
  {
   "cell_type": "code",
   "execution_count": null,
   "id": "2b069f90",
   "metadata": {
    "ExecuteTime": {
     "end_time": "2021-06-06T13:46:41.951160Z",
     "start_time": "2021-06-06T13:46:41.614904Z"
    }
   },
   "outputs": [],
   "source": [
    "new_amt_retail_loan_mean = pd.crosstab(data_loan_outstanding_new['vin_mob'], data_loan_outstanding_new['상품분류'], data_loan_outstanding_new['여신금액']/1000000, aggfunc='mean')\n",
    "new_amt_retail_loan_mean = new_amt_retail_loan_mean.drop(['오토자금대출', '데이터_기타'], axis=1)\n",
    "col_sort_list = ['오토리스', '할부/오토론', '임차보증금대출', '스탁론(국내)', '스마트스토어대출']\n",
    "new_amt_retail_loan_mean = new_amt_retail_loan_mean[col_sort_list]\n",
    "fig = plot_chart(new_amt_retail_loan_mean, '월간 리테일여신 평균 Ticket size 추이', '취급월', '평균 취급 TS', 'line', False)\n",
    "plt.ylim(0, 200)"
   ]
  },
  {
   "cell_type": "code",
   "execution_count": null,
   "id": "de0ac86e",
   "metadata": {
    "ExecuteTime": {
     "end_time": "2021-06-06T13:52:22.517098Z",
     "start_time": "2021-06-06T13:52:22.184068Z"
    }
   },
   "outputs": [],
   "source": [
    "new_amt_retail_loan_mean_rate = pd.crosstab(data_loan_outstanding_new['vin_mob'], data_loan_outstanding_new['상품분류'], data_loan_outstanding_new['IRR'], aggfunc='mean')\n",
    "new_amt_retail_loan_mean_rate = new_amt_retail_loan_mean_rate.drop(['오토자금대출', '데이터_기타'], axis=1)\n",
    "col_sort_list = ['오토리스', '할부/오토론', '임차보증금대출', '스탁론(국내)', '스마트스토어대출']\n",
    "new_amt_retail_loan_mean_rate = new_amt_retail_loan_mean_rate[col_sort_list]\n",
    "fig = plot_chart(new_amt_retail_loan_mean_rate, '월간 리테일여신 평균대출금리(IRR) 추이', '취급월', '평균 IRR', 'line', False)\n",
    "plt.ylim(2, 8)"
   ]
  },
  {
   "cell_type": "code",
   "execution_count": null,
   "id": "712d6ab2",
   "metadata": {
    "ExecuteTime": {
     "end_time": "2021-06-06T13:59:08.258801Z",
     "start_time": "2021-06-06T13:59:07.976535Z"
    }
   },
   "outputs": [],
   "source": [
    "monthly_loan_outstanding = pd.read_pickle(r'C:\\Users\\perkw\\Projects\\pqr-project-01\\data\\monthly_loan_outstanding_f.pkl')\n",
    "monthly_delinquent = pd.read_pickle(r'C:\\Users\\perkw\\Projects\\pqr-project-01\\data\\monthly_delinquent.pkl')"
   ]
  },
  {
   "cell_type": "code",
   "execution_count": null,
   "id": "9785317b",
   "metadata": {
    "ExecuteTime": {
     "end_time": "2021-06-06T14:05:32.354720Z",
     "start_time": "2021-06-06T14:05:29.538326Z"
    }
   },
   "outputs": [],
   "source": [
    "monthly_loan_outstanding_merged = pd.merge(data_loan_outstanding, monthly_loan_outstanding, right_on = '실행번호', left_on = '실행번호', how='right')"
   ]
  },
  {
   "cell_type": "code",
   "execution_count": null,
   "id": "0a8b8cc3",
   "metadata": {
    "ExecuteTime": {
     "end_time": "2021-06-06T14:05:35.936176Z",
     "start_time": "2021-06-06T14:05:35.922218Z"
    }
   },
   "outputs": [],
   "source": [
    "monthly_loan_outstanding.shape"
   ]
  },
  {
   "cell_type": "code",
   "execution_count": null,
   "id": "abb84ea5",
   "metadata": {
    "ExecuteTime": {
     "end_time": "2021-06-06T14:13:54.202229Z",
     "start_time": "2021-06-06T14:13:53.723965Z"
    }
   },
   "outputs": [],
   "source": [
    "monthly_loan_outstanding_merged['여신잔액_y'] = monthly_loan_outstanding_merged['여신잔액_y'].str.replace(\",\", \"\")\n",
    "monthly_loan_outstanding_merged['여신잔액_y'] = monthly_loan_outstanding_merged['여신잔액_y'].astype(float)"
   ]
  },
  {
   "cell_type": "code",
   "execution_count": null,
   "id": "e9b70d91",
   "metadata": {
    "ExecuteTime": {
     "end_time": "2021-06-06T14:18:59.639506Z",
     "start_time": "2021-06-06T14:18:59.476003Z"
    }
   },
   "outputs": [],
   "source": [
    "monthly_loan_outstanding_merged['기준월'] = monthly_loan_outstanding_merged['기준일자'].apply(lambda x: x[0:6])"
   ]
  },
  {
   "cell_type": "code",
   "execution_count": null,
   "id": "19d04ecd",
   "metadata": {
    "ExecuteTime": {
     "end_time": "2021-06-06T14:20:22.583923Z",
     "start_time": "2021-06-06T14:20:21.774116Z"
    }
   },
   "outputs": [],
   "source": [
    "monthly_loan_outstanding_merged.info()"
   ]
  },
  {
   "cell_type": "code",
   "execution_count": null,
   "id": "5b1379b4",
   "metadata": {
    "ExecuteTime": {
     "start_time": "2021-06-06T14:22:49.227Z"
    }
   },
   "outputs": [],
   "source": [
    "monthly_loan_outstanding_merged.to_excel('test.xlsx')"
   ]
  },
  {
   "cell_type": "code",
   "execution_count": null,
   "id": "9659e279",
   "metadata": {
    "ExecuteTime": {
     "end_time": "2021-06-06T14:19:02.182447Z",
     "start_time": "2021-06-06T14:19:01.830715Z"
    }
   },
   "outputs": [],
   "source": [
    "monthly_loan_outstanding_merged_amt = monthly_loan_outstanding_merged[monthly_loan_outstanding_merged['부서'].isin(filter_org)]"
   ]
  },
  {
   "cell_type": "code",
   "execution_count": null,
   "id": "28a0b5dc",
   "metadata": {
    "ExecuteTime": {
     "end_time": "2021-06-06T14:19:07.954156Z",
     "start_time": "2021-06-06T14:19:05.920423Z"
    }
   },
   "outputs": [],
   "source": [
    "monthly_loan_outstanding_merged_amt_group = pd.crosstab(monthly_loan_outstanding_merged_amt['기준월'], monthly_loan_outstanding_merged_amt['상품분류'], monthly_loan_outstanding_merged_amt['여신잔액_y']/100000000, aggfunc='sum')\n",
    "\n",
    "monthly_loan_outstanding_merged_amt_group = monthly_loan_outstanding_merged_amt_group.drop(['오토자금대출', '데이터_기타'], axis=1)\n",
    "col_sort_list = ['오토리스', '할부/오토론', '임차보증금대출', '스탁론(국내)', '스마트스토어대출']\n",
    "monthly_loan_outstanding_merged_amt_group = monthly_loan_outstanding_merged_amt_group[col_sort_list]\n",
    "fig = plot_chart(monthly_loan_outstanding_merged_amt_group, '월간 리테일여신 여신잔액(억원) 추이', '월(month)', '여신잔액(억원)', 'bar', True)"
   ]
  },
  {
   "cell_type": "code",
   "execution_count": null,
   "id": "31429e77",
   "metadata": {},
   "outputs": [],
   "source": []
  }
 ],
 "metadata": {
  "kernelspec": {
   "display_name": "Python 3",
   "language": "python",
   "name": "python3"
  },
  "language_info": {
   "codemirror_mode": {
    "name": "ipython",
    "version": 3
   },
   "file_extension": ".py",
   "mimetype": "text/x-python",
   "name": "python",
   "nbconvert_exporter": "python",
   "pygments_lexer": "ipython3",
   "version": "3.8.5"
  },
  "toc": {
   "base_numbering": 1,
   "nav_menu": {},
   "number_sections": true,
   "sideBar": true,
   "skip_h1_title": false,
   "title_cell": "Table of Contents",
   "title_sidebar": "Contents",
   "toc_cell": false,
   "toc_position": {},
   "toc_section_display": true,
   "toc_window_display": false
  }
 },
 "nbformat": 4,
 "nbformat_minor": 5
}
